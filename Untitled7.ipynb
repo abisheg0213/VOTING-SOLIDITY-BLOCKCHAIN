{
 "cells": [
  {
   "cell_type": "code",
   "execution_count": 15,
   "id": "5dd99e83",
   "metadata": {},
   "outputs": [],
   "source": [
    "from solcx import compile_source,install_solc\n",
    "install_solc()\n",
    "compiled_sol=compile_source(\n",
    "'''\n",
    "pragma solidity ^0.8.14;\n",
    "contract ballot\n",
    "{\n",
    "    struct voter\n",
    "    {\n",
    "        uint weight;\n",
    "        bool voted;\n",
    "    }\n",
    "    struct candidate\n",
    "    {\n",
    "        uint votecount;\n",
    "        // string canname;\n",
    "    }\n",
    "    enum Stage{init,reg,vote,done}\n",
    "    Stage public stage=Stage.init;\n",
    "    address chairperson;\n",
    "    mapping (address => voter) Voter;\n",
    "    candidate [3] cans;\n",
    "    address [] voters;\n",
    "   \n",
    "    constructor()\n",
    "    {\n",
    "        chairperson=msg.sender;\n",
    "        stage=Stage.reg;\n",
    "        // cans=new candidate[](noofcandidates);\n",
    "        Voter[msg.sender].weight=2;\n",
    "        Voter[msg.sender].voted=false;\n",
    "        voters.push(chairperson);\n",
    "       \n",
    "    }\n",
    "    function change_state(uint k) public onlyby(msg.sender){\n",
    "        if (k==1)\n",
    "        {\n",
    "            stage=Stage.reg;\n",
    "        }\n",
    "        if (k==2)\n",
    "        {\n",
    "            stage=Stage.vote;\n",
    "        }\n",
    "        if(k==3)\n",
    "        {\n",
    "            stage=Stage.done;\n",
    "        }\n",
    "    }\n",
    "\n",
    "    modifier onlyby(address s)\n",
    "    {\n",
    "        require(s==chairperson);\n",
    "        _;\n",
    "    }\n",
    "    modifier vervoted(address h)\n",
    "    {\n",
    "        require(Voter[h].voted==false);\n",
    "        _;\n",
    "    }\n",
    "    modifier reqstage(Stage t)\n",
    "    {\n",
    "        require(stage==t);\n",
    "        _;\n",
    "    }\n",
    "    function register(address vt) public onlyby(msg.sender) reqstage(Stage.reg)\n",
    "    {\n",
    "        Voter[vt].weight=1;\n",
    "        Voter[vt].voted=false;\n",
    "        voters.push(vt);\n",
    "       \n",
    "    }\n",
    "    modifier bvalvoter(address h)\n",
    "    {\n",
    "        require(regvoter(h)==true);\n",
    "        _;\n",
    "    }\n",
    "    function regvoter(address r) public returns(bool)\n",
    "    {\n",
    "        uint y=0;\n",
    "        bool avail;\n",
    "        for(uint i=0;i<voters.length;i++)\n",
    "        {\n",
    "            // v=i;\n",
    "            if(voters[i]==r)\n",
    "            {\n",
    "                avail=true;\n",
    "                y=1;\n",
    "            }\n",
    "        }\n",
    "        if (y==0)\n",
    "        {\n",
    "            avail=false;\n",
    "        }\n",
    "        return avail;\n",
    "    }\n",
    "    function vote(uint8 i) public vervoted(msg.sender) reqstage(Stage.vote) bvalvoter(msg.sender)\n",
    "    {\n",
    "           cans[i].votecount+=Voter[msg.sender].weight;\n",
    "           Voter[msg.sender].voted=true;\n",
    "        \n",
    "    }\n",
    "    function winningProposal() view public reqstage(Stage.done) returns(uint8)\n",
    "    {\n",
    "        uint max=0;\n",
    "        uint8 winp=0;\n",
    "        for (uint8 j=0;j<cans.length;j++)\n",
    "        {\n",
    "            if (max<cans[j].votecount)\n",
    "            {\n",
    "                max=cans[j].votecount;\n",
    "                winp=j;\n",
    "            }\n",
    "        }\n",
    "        return winp;\n",
    "    }\n",
    "}\n",
    "''',\n",
    "    output_values=['abi','bin']\n",
    ")"
   ]
  },
  {
   "cell_type": "code",
   "execution_count": 16,
   "id": "19cb76a6",
   "metadata": {},
   "outputs": [],
   "source": [
    "from web3 import Web3\n",
    "contract_id,contract_interface=compiled_sol.popitem()\n",
    "a=contract_interface['abi']\n",
    "b=contract_interface['bin']\n",
    "w3=Web3(Web3.HTTPProvider('HTTP://127.0.0.1:7545'))\n",
    "ballot=w3.eth.contract(abi=a,bytecode=b)"
   ]
  },
  {
   "cell_type": "code",
   "execution_count": 18,
   "id": "02f008ff",
   "metadata": {},
   "outputs": [],
   "source": [
    "non=w3.eth.getTransactionCount(\"0x3dD4fF5605e3F5aDd1eE965D215594846EE97844\")\n",
    "tx=ballot.constructor().buildTransaction(\n",
    "{\n",
    "    \"gasPrice\":w3.eth.gas_price,\n",
    "    'from':\"0x3dD4fF5605e3F5aDd1eE965D215594846EE97844\",\n",
    "     'nonce':non\n",
    "})\n",
    "p=\"27c6540dd25c6bdb845609e9da2b72267749acaaafdb0724f453bd97c8838690\"\n",
    "signed_tx=w3.eth.account.sign_transaction(tx,private_key=p)\n",
    "tx_hash=w3.eth.send_raw_transaction(signed_tx.rawTransaction)\n",
    "tx_recipt=w3.eth.wait_for_transaction_receipt(tx_hash)"
   ]
  },
  {
   "cell_type": "code",
   "execution_count": 19,
   "id": "f5b6d33e",
   "metadata": {},
   "outputs": [],
   "source": [
    "con_instance=w3.eth.contract(address=tx_recipt.contractAddress,abi=a)"
   ]
  },
  {
   "cell_type": "code",
   "execution_count": 20,
   "id": "63408df8",
   "metadata": {},
   "outputs": [
    {
     "data": {
      "text/plain": [
       "1"
      ]
     },
     "execution_count": 20,
     "metadata": {},
     "output_type": "execute_result"
    }
   ],
   "source": [
    "con_instance.functions.stage().call()"
   ]
  },
  {
   "cell_type": "code",
   "execution_count": 42,
   "id": "f2e91855",
   "metadata": {},
   "outputs": [],
   "source": [
    "owner_add=\"0x3dD4fF5605e3F5aDd1eE965D215594846EE97844\"\n",
    "p_owner=\"27c6540dd25c6bdb845609e9da2b72267749acaaafdb0724f453bd97c8838690\"\n",
    "def state(no):\n",
    "    tx=con_instance.functions.change_state(no).buildTransaction(\n",
    "    {\n",
    "        \"gasPrice\":w3.eth.gas_price,\n",
    "        \"from\":owner_add,\n",
    "        'nonce':w3.eth.getTransactionCount(owner_add)\n",
    "        \n",
    "    })\n",
    "    signed_tx=w3.eth.account.sign_transaction(tx,private_key=p_owner)\n",
    "    tx_hash=w3.eth.send_raw_transaction(signed_tx.rawTransaction)\n",
    "def register_voter(addr):\n",
    "    tx=con_instance.functions.register(addr).buildTransaction(\n",
    "    {\n",
    "        \"gasPrice\":w3.eth.gas_price,\n",
    "        \"from\":owner_add,\n",
    "        \"nonce\":w3.eth.getTransactionCount(owner_add)\n",
    "    })\n",
    "    signed_tx=w3.eth.account.sign_transaction(tx,private_key=p_owner)\n",
    "    tx_hash=w3.eth.send_raw_transaction(signed_tx.rawTransaction)\n",
    "def vote(a,prop,private_key):\n",
    "    tx=con_instance.functions.vote(prop).buildTransaction(\n",
    "    {\n",
    "        \"gasPrice\":w3.eth.gas_price,\n",
    "        \"from\":a,\n",
    "        \"nonce\":w3.eth.getTransactionCount(a)\n",
    "    })\n",
    "    signed_tx=w3.eth.account.sign_transaction(tx,private_key=private_key)\n",
    "    tx_hash=w3.eth.send_raw_transaction(signed_tx.rawTransaction)\n",
    "def win_proposal():\n",
    "    p=con_instance.functions.winningProposal().call()\n",
    "    return p"
   ]
  },
  {
   "cell_type": "code",
   "execution_count": null,
   "id": "462d89ad",
   "metadata": {},
   "outputs": [],
   "source": [
    "stage()"
   ]
  },
  {
   "cell_type": "code",
   "execution_count": 22,
   "id": "a19f2b16",
   "metadata": {},
   "outputs": [
    {
     "data": {
      "text/plain": [
       "True"
      ]
     },
     "execution_count": 22,
     "metadata": {},
     "output_type": "execute_result"
    }
   ],
   "source": [
    "register_voter(\"0x4cC20d6d589BD21F6Ff3dab6BA7Bd0Ab72C949Ef\")\n",
    "con_instance.functions.regvoter(\"0x4cC20d6d589BD21F6Ff3dab6BA7Bd0Ab72C949Ef\").call()"
   ]
  },
  {
   "cell_type": "code",
   "execution_count": 24,
   "id": "e3a7b5e0",
   "metadata": {
    "scrolled": true
   },
   "outputs": [],
   "source": [
    "def vote(a,prop,private_key):\n",
    "    tx=con_instance.functions.vote(prop).buildTransaction(\n",
    "    {\n",
    "        \"gasPrice\":w3.eth.gas_price,\n",
    "        \"from\":a,\n",
    "        \"nonce\":w3.eth.getTransactionCount(a)\n",
    "    })\n",
    "    signed_tx=w3.eth.account.sign_transaction(tx,private_key=private_key)\n",
    "    tx_hash=w3.eth.send_raw_transaction(signed_tx.rawTransaction)\n",
    "state(2)\n",
    "vote(\"0x4cC20d6d589BD21F6Ff3dab6BA7Bd0Ab72C949Ef\",2,\"0x1120ef4a469709e10b5e39dc3fd3052d66e07b76c0b22eec1daa28978ae6413e\")"
   ]
  },
  {
   "cell_type": "code",
   "execution_count": 26,
   "id": "ed84b324",
   "metadata": {},
   "outputs": [
    {
     "data": {
      "text/plain": [
       "2"
      ]
     },
     "execution_count": 26,
     "metadata": {},
     "output_type": "execute_result"
    }
   ],
   "source": [
    "state(3)\n",
    "con_instance.functions.winningProposal().call()"
   ]
  },
  {
   "cell_type": "code",
   "execution_count": 43,
   "id": "cd43d6e3",
   "metadata": {},
   "outputs": [],
   "source": [
    "def cs():\n",
    "    s=int(e1.get())\n",
    "    state(s)\n",
    "def r():\n",
    "    register_voter(e2.get())\n",
    "def v():\n",
    "    a=e3.get()\n",
    "    b=int(e4.get())\n",
    "    c=e5.get()\n",
    "    vote(a,b,c)\n",
    "def w():\n",
    "    out=win_proposal()\n",
    "    l6['text']=\"the winner is candidate\"+str(out+1)\n",
    "import tkinter as tk\n",
    "window=tk.Tk()\n",
    "l1=tk.Label(text=\"enter stage:\")\n",
    "l1.pack()\n",
    "e1=tk.Entry()\n",
    "e1.pack()\n",
    "b1=tk.Button(text=\"click to change state:\",command=cs)\n",
    "b1.pack()\n",
    "l2=tk.Label(text=\"enter address of the voter to be registered:\")\n",
    "l2.pack()\n",
    "e2=tk.Entry()\n",
    "e2.pack()\n",
    "b2=tk.Button(text=\"click to register:\",command=r)\n",
    "b2.pack()\n",
    "l3=tk.Label(text=\"VOTING:\")\n",
    "l3.pack()\n",
    "e3=tk.Entry()\n",
    "e3.pack()\n",
    "l4=tk.Label(text=\"CANDIDATE:\")\n",
    "l4.pack()\n",
    "e4=tk.Entry()\n",
    "e4.pack()\n",
    "l5=tk.Label(text=\"PRIVATE KEY:\")\n",
    "l5.pack()\n",
    "e5=tk.Entry()\n",
    "e5.pack()\n",
    "b3=tk.Button(text=\"click to vote:\",command=v)\n",
    "b3.pack()\n",
    "l6=tk.Label()\n",
    "l6.pack()\n",
    "b4=tk.Button(text=\"click to view the winner\",command=w)\n",
    "b4.pack()\n",
    "window.mainloop()"
   ]
  },
  {
   "cell_type": "code",
   "execution_count": 37,
   "id": "acf0483d",
   "metadata": {},
   "outputs": [
    {
     "data": {
      "text/plain": [
       "1"
      ]
     },
     "execution_count": 37,
     "metadata": {},
     "output_type": "execute_result"
    }
   ],
   "source": [
    "con_instance.functions.stage().call()"
   ]
  },
  {
   "cell_type": "code",
   "execution_count": 40,
   "id": "73bb6f74",
   "metadata": {},
   "outputs": [
    {
     "data": {
      "text/plain": [
       "1"
      ]
     },
     "execution_count": 40,
     "metadata": {},
     "output_type": "execute_result"
    }
   ],
   "source": [
    "state(3)\n",
    "con_instance.functions.winningProposal().call()"
   ]
  },
  {
   "cell_type": "code",
   "execution_count": null,
   "id": "e25ff03a",
   "metadata": {},
   "outputs": [],
   "source": []
  }
 ],
 "metadata": {
  "kernelspec": {
   "display_name": "Python 3 (ipykernel)",
   "language": "python",
   "name": "python3"
  },
  "language_info": {
   "codemirror_mode": {
    "name": "ipython",
    "version": 3
   },
   "file_extension": ".py",
   "mimetype": "text/x-python",
   "name": "python",
   "nbconvert_exporter": "python",
   "pygments_lexer": "ipython3",
   "version": "3.9.6"
  }
 },
 "nbformat": 4,
 "nbformat_minor": 5
}
